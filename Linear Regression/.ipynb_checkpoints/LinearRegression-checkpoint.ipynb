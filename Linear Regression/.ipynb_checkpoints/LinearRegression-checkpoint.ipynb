{
 "cells": [
  {
   "cell_type": "code",
   "execution_count": 3,
   "metadata": {},
   "outputs": [],
   "source": [
    "import pandas as pd\n",
    "import csv"
   ]
  },
  {
   "cell_type": "code",
   "execution_count": 4,
   "metadata": {},
   "outputs": [
    {
     "name": "stdout",
     "output_type": "stream",
     "text": [
      "Enter file name(or full path:)\n",
      "Fish\n"
     ]
    }
   ],
   "source": [
    "#File Read:\n",
    "print(\"Enter file name(or full path:)\")\n",
    "file=input()\n",
    "data = pd.read_csv(r\"{}.csv\".format(file))"
   ]
  },
  {
   "cell_type": "code",
   "execution_count": 5,
   "metadata": {},
   "outputs": [
    {
     "data": {
      "text/html": [
       "<div>\n",
       "<style scoped>\n",
       "    .dataframe tbody tr th:only-of-type {\n",
       "        vertical-align: middle;\n",
       "    }\n",
       "\n",
       "    .dataframe tbody tr th {\n",
       "        vertical-align: top;\n",
       "    }\n",
       "\n",
       "    .dataframe thead th {\n",
       "        text-align: right;\n",
       "    }\n",
       "</style>\n",
       "<table border=\"1\" class=\"dataframe\">\n",
       "  <thead>\n",
       "    <tr style=\"text-align: right;\">\n",
       "      <th></th>\n",
       "      <th>Length1</th>\n",
       "      <th>Length2</th>\n",
       "      <th>Length3</th>\n",
       "      <th>Height</th>\n",
       "      <th>Width</th>\n",
       "      <th>Weight</th>\n",
       "    </tr>\n",
       "  </thead>\n",
       "  <tbody>\n",
       "    <tr>\n",
       "      <th>0</th>\n",
       "      <td>23.2</td>\n",
       "      <td>25.4</td>\n",
       "      <td>30.0</td>\n",
       "      <td>11.5200</td>\n",
       "      <td>4.0200</td>\n",
       "      <td>242.0</td>\n",
       "    </tr>\n",
       "    <tr>\n",
       "      <th>1</th>\n",
       "      <td>24.0</td>\n",
       "      <td>26.3</td>\n",
       "      <td>31.2</td>\n",
       "      <td>12.4800</td>\n",
       "      <td>4.3056</td>\n",
       "      <td>290.0</td>\n",
       "    </tr>\n",
       "    <tr>\n",
       "      <th>2</th>\n",
       "      <td>23.9</td>\n",
       "      <td>26.5</td>\n",
       "      <td>31.1</td>\n",
       "      <td>12.3778</td>\n",
       "      <td>4.6961</td>\n",
       "      <td>340.0</td>\n",
       "    </tr>\n",
       "    <tr>\n",
       "      <th>3</th>\n",
       "      <td>26.3</td>\n",
       "      <td>29.0</td>\n",
       "      <td>33.5</td>\n",
       "      <td>12.7300</td>\n",
       "      <td>4.4555</td>\n",
       "      <td>363.0</td>\n",
       "    </tr>\n",
       "    <tr>\n",
       "      <th>4</th>\n",
       "      <td>26.5</td>\n",
       "      <td>29.0</td>\n",
       "      <td>34.0</td>\n",
       "      <td>12.4440</td>\n",
       "      <td>5.1340</td>\n",
       "      <td>430.0</td>\n",
       "    </tr>\n",
       "  </tbody>\n",
       "</table>\n",
       "</div>"
      ],
      "text/plain": [
       "   Length1  Length2  Length3   Height   Width  Weight\n",
       "0     23.2     25.4     30.0  11.5200  4.0200   242.0\n",
       "1     24.0     26.3     31.2  12.4800  4.3056   290.0\n",
       "2     23.9     26.5     31.1  12.3778  4.6961   340.0\n",
       "3     26.3     29.0     33.5  12.7300  4.4555   363.0\n",
       "4     26.5     29.0     34.0  12.4440  5.1340   430.0"
      ]
     },
     "execution_count": 5,
     "metadata": {},
     "output_type": "execute_result"
    }
   ],
   "source": [
    "#Show the File:\n",
    "data.head()"
   ]
  },
  {
   "cell_type": "code",
   "execution_count": 6,
   "metadata": {},
   "outputs": [
    {
     "data": {
      "text/plain": [
       "(159, 6)"
      ]
     },
     "execution_count": 6,
     "metadata": {},
     "output_type": "execute_result"
    }
   ],
   "source": [
    "#File Size:\n",
    "data.shape"
   ]
  },
  {
   "cell_type": "code",
   "execution_count": 7,
   "metadata": {},
   "outputs": [
    {
     "name": "stdout",
     "output_type": "stream",
     "text": [
      "159 6\n"
     ]
    }
   ],
   "source": [
    "#Rows and Columns Define:\n",
    "rows=len(data)\n",
    "columns=len(data.columns)\n",
    "print(rows,columns)"
   ]
  },
  {
   "cell_type": "code",
   "execution_count": 8,
   "metadata": {},
   "outputs": [],
   "source": [
    "#Check Categorical Values:\n",
    "for i in range(0, columns):\n",
    "    for j in range(0, rows):\n",
    "        if(type(data.values[j][i]) == str):\n",
    "            x = data.columns[i]\n",
    "            if j==0:\n",
    "                a=[]\n",
    "                a = [0 for i in range(1)]\n",
    "                a[0]=data.values[j][i]\n",
    "                data[x].values[j] = 0 \n",
    "            else:\n",
    "                for k in range(0, len(a)):\n",
    "                    if data.values[j][i] == a[k]:\n",
    "                        data[x].values[j]  = k\n",
    "                        break\n",
    "                if (type(data.values[j][i]) == str) :  \n",
    "                    a.append(data.values[j][i])\n",
    "                    data[x].values[j]  = k+1\n",
    "        else:\n",
    "            break\n",
    "            "
   ]
  },
  {
   "cell_type": "code",
   "execution_count": 9,
   "metadata": {},
   "outputs": [
    {
     "name": "stdout",
     "output_type": "stream",
     "text": [
      "     Length1  Length2  Length3   Height   Width  Weight\n",
      "0       23.2     25.4     30.0  11.5200  4.0200   242.0\n",
      "1       24.0     26.3     31.2  12.4800  4.3056   290.0\n",
      "2       23.9     26.5     31.1  12.3778  4.6961   340.0\n",
      "3       26.3     29.0     33.5  12.7300  4.4555   363.0\n",
      "4       26.5     29.0     34.0  12.4440  5.1340   430.0\n",
      "..       ...      ...      ...      ...     ...     ...\n",
      "154     11.5     12.2     13.4   2.0904  1.3936    12.2\n",
      "155     11.7     12.4     13.5   2.4300  1.2690    13.4\n",
      "156     12.1     13.0     13.8   2.2770  1.2558    12.2\n",
      "157     13.2     14.3     15.2   2.8728  2.0672    19.7\n",
      "158     13.8     15.0     16.2   2.9322  1.8792    19.9\n",
      "\n",
      "[159 rows x 6 columns]\n"
     ]
    }
   ],
   "source": [
    "#Show Changes in Categorical Values:\n",
    "print(data)"
   ]
  },
  {
   "cell_type": "code",
   "execution_count": 11,
   "metadata": {},
   "outputs": [
    {
     "name": "stdout",
     "output_type": "stream",
     "text": [
      "Enter Label(last-column) name :\n",
      "Weight\n"
     ]
    }
   ],
   "source": [
    "#Define Last Column for Calculation:\n",
    "print(\"Enter Label(last-column) name :\")\n",
    "y = input()\n",
    "y = data[y]"
   ]
  },
  {
   "cell_type": "code",
   "execution_count": 12,
   "metadata": {},
   "outputs": [
    {
     "name": "stdout",
     "output_type": "stream",
     "text": [
      "Initial set the values of omega W0\n",
      ".5\n",
      "Initial set the values of omega W1\n",
      ".5\n",
      "Initial set the values of omega W2\n",
      ".5\n",
      "Initial set the values of omega W3\n",
      ".5\n",
      "Initial set the values of omega W4\n",
      ".5\n",
      "Initial set the values of omega W5\n",
      ".5\n",
      "[0.5, 0.5, 0.5, 0.5, 0.5, 0.5]\n"
     ]
    }
   ],
   "source": [
    "#User Inputs for Omega Values:\n",
    "w = []\n",
    "for i in range(0, columns):\n",
    "    print(\"Initial set the values of omega W{}\".format(i))\n",
    "    ele = float(input())\n",
    "    w.append(ele)\n",
    "    \n",
    "print(w)"
   ]
  },
  {
   "cell_type": "code",
   "execution_count": 13,
   "metadata": {},
   "outputs": [
    {
     "name": "stdout",
     "output_type": "stream",
     "text": [
      "Enter the value of alpha: .1\n"
     ]
    }
   ],
   "source": [
    "#User Input for Alpha Value:\n",
    "alpha =float(input(\"Enter the value of alpha: \")) "
   ]
  },
  {
   "cell_type": "code",
   "execution_count": 14,
   "metadata": {},
   "outputs": [
    {
     "name": "stdout",
     "output_type": "stream",
     "text": [
      "Enter iteration number:\n",
      "10\n",
      "Iteration number 1\n",
      "Value of omega: [5536.676589999998, 194212.20557850006, 209907.07716050005, 230129.58603000003, 66314.8269841195, 32465.66977578549] \n",
      "Error Value: 3.2646946539210828e+16 %\n",
      "Iteration number 2\n",
      "Value of omega: [-301965891.8431548, -9041610293.071978, -9778544550.946388, -10728520959.61599, -3038151244.775552, -1501070750.1852124] \n",
      "Error Value: 7.079397990267154e+25 %\n",
      "Iteration number 3\n",
      "Value of omega: [14061487162097.82, 421041271971366.1, 455357591869846.06, 499592757539964.0, 141469448440718.3, 69898962800125.44] \n",
      "Error Value: 1.5351474669183645e+35 %\n",
      "Iteration number 4\n",
      "Value of omega: [-6.547991809287816e+17, -1.960656722708043e+19, -2.120457017052734e+19, -2.3264462193752293e+19, -6.587785603315949e+18, -3.254974508816533e+18] \n",
      "Error Value: 3.3289239401807697e+44 %\n",
      "Iteration number 5\n",
      "Value of omega: [3.0491936979003233e+22, 9.130161273639541e+23, 9.874300949751624e+23, 1.0833527832492198e+24, 3.0677244132847764e+23, 1.5157391834173956e+23] \n",
      "Error Value: 7.218677578743616e+53 %\n",
      "Iteration number 6\n",
      "Value of omega: [-1.4199135367277145e+27, -4.251628748243851e+28, -4.598151174829974e+28, -5.044832944023888e+28, -1.428542707654673e+28, -7.058320323054927e+27] \n",
      "Error Value: 1.5653498524519044e+63 %\n",
      "Iteration number 7\n",
      "Value of omega: [6.612090445981892e+31, 1.97984969499703e+33, 2.1412142828316428e+33, 2.3492199241672327e+33, 6.652273779098273e+32, 3.286837625360337e+32] \n",
      "Error Value: 3.3944169605060364e+72 %\n",
      "Iteration number 8\n",
      "Value of omega: [-3.079042415962886e+36, -9.219536904295592e+37, -9.970961002976935e+37, -1.0939577808303675e+38, -3.097754529490506e+37, -1.5305768342925841e+37] \n",
      "Error Value: 7.360697344253947e+81 %\n",
      "Iteration number 9\n",
      "Value of omega: [1.4338131452904998e+41, 4.293248166487504e+42, 4.643162719399057e+42, 5.094217080010214e+42, 1.4425267876271494e+42, 7.127414593278805e+41] \n",
      "Error Value: 1.596146437638292e+91 %\n",
      "Iteration number 10\n",
      "Value of omega: [-6.676816548384364e+45, -1.9992305481699857e+47, -2.1621747424727266e+47, -2.372216562011168e+47, -6.717393238269747e+46, -3.3190126523744733e+46] \n",
      "Error Value: 3.461198486002464e+100 %\n"
     ]
    }
   ],
   "source": [
    "#Main Function for Linear Regression:\n",
    "print(\"Enter iteration number:\")\n",
    "iter_num = int(input())\n",
    "header=['Dataset','No of iteration','Learning rate','Squared Error']\n",
    "with open(\"result.csv\" , mode='w', newline='') as result:\n",
    "    result_writer = csv.writer(result,delimiter=\",\")\n",
    "    result_writer.writerow(header)\n",
    "    for num in range(0, iter_num):\n",
    "        pr = []\n",
    "        pr = [0 for i in range(len(data))]\n",
    "        for i in range(0, rows):\n",
    "            for j in range(0, columns):\n",
    "                if j>0 :\n",
    "                    pr[i]=pr[i]+(data.values[i][j-1]*w[j])\n",
    "                else:\n",
    "                    pr[i]=w[0]\n",
    "        d = []\n",
    "        d = [[0 for i in range(rows)]\n",
    "               for j in range(columns)]\n",
    "        for i in range(0, columns):\n",
    "            for j in range(0, rows):\n",
    "                if i>0 :\n",
    "                    d[i][j]= d[0][j]*(data.values[j][i-1])\n",
    "                else:\n",
    "                    d[i][j]=pr[j]-y[j]  #Value of last attribute\n",
    "        d1 = list(map(sum,d))   \n",
    "        w1 = []\n",
    "        w1 =[0 for i in range(columns)]\n",
    "        for i in range(0, columns):\n",
    "            w1[i]=w[i]\n",
    "            w[i]=w[i]-(alpha*d1[i])\n",
    "        e = []\n",
    "        e =[0 for i in range(rows)]\n",
    "        for i in range(0, rows):\n",
    "            for j in range(0, columns):\n",
    "                if j>0 :\n",
    "                    e[i]=e[i]+(data.values[i][j-1]*w[j])\n",
    "                else:\n",
    "                    e[i]=w[0]\n",
    "    \n",
    "        for i in range(0, rows):\n",
    "            e[i]=(e[i]-y[i])**2   \n",
    "        error=(sum(e))*0.5\n",
    "        \n",
    "        result_writer.writerow([file,num+1, alpha, error])\n",
    "        print(\"Iteration number {}\".format(num+1))\n",
    "        print(\"Value of omega: {} \".format(w))\n",
    "        print(\"Error Value: {} %\".format(error))\n",
    "    "
   ]
  },
  {
   "cell_type": "code",
   "execution_count": 15,
   "metadata": {},
   "outputs": [
    {
     "data": {
      "image/png": "[encoded data removed]",
      "text/plain": [
       "<Figure size 432x288 with 1 Axes>"
      ]
     },
     "metadata": {
      "needs_background": "light"
     },
     "output_type": "display_data"
    }
   ],
   "source": [
    "#Linear Regression Graph(Error,learning rate)\n",
    "result=pd.read_csv(r\"result.csv\")\n",
    "result.head()\n",
    "import matplotlib.pyplot as plt\n",
    "plt.plot(result['No of iteration'],result['Squared Error'])\n",
    "plt.xlabel('No of iteration')\n",
    "plt.ylabel('Error')\n",
    "plt.title('Linear Regression Error Graph!')\n",
    "plt.show()"
   ]
  },
  {
   "cell_type": "code",
   "execution_count": null,
   "metadata": {},
   "outputs": [],
   "source": []
  }
 ],
 "metadata": {
  "kernelspec": {
   "display_name": "Python 3",
   "language": "python",
   "name": "python3"
  },
  "language_info": {
   "codemirror_mode": {
    "name": "ipython",
    "version": 3
   },
   "file_extension": ".py",
   "mimetype": "text/x-python",
   "name": "python",
   "nbconvert_exporter": "python",
   "pygments_lexer": "ipython3",
   "version": "3.8.3"
  }
 },
 "nbformat": 4,
 "nbformat_minor": 4
}
